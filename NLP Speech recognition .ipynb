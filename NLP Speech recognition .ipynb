{
 "cells": [
  {
   "cell_type": "code",
   "execution_count": 2,
   "id": "bb3c8e05",
   "metadata": {},
   "outputs": [
    {
     "name": "stdout",
     "output_type": "stream",
     "text": [
      "Speak something...\n",
      "You said: hello how are you\n"
     ]
    }
   ],
   "source": [
    "import speech_recognition as sr\n",
    "\n",
    "\n",
    "def recognize_speech():\n",
    "    # Initialize the recognizer\n",
    "    r = sr.Recognizer()\n",
    "\n",
    "   \n",
    "    with sr.Microphone() as source:\n",
    "        print(\"Speak something...\")\n",
    "        audio = r.listen(source)\n",
    "\n",
    "    try:\n",
    "       \n",
    "        text = r.recognize_google(audio)\n",
    "        print(\"You said:\", text)\n",
    "    except sr.UnknownValueError:\n",
    "        print(\"Sorry, I could not understand what you said.\")\n",
    "    except sr.RequestError as e:\n",
    "        print(\"Sorry, I encountered an error while requesting the Google Speech Recognition service: {0}\".format(e))\n",
    "\n",
    "# Call the speech recognition function\n",
    "recognize_speech()\n"
   ]
  },
  {
   "cell_type": "markdown",
   "id": "99cc8016",
   "metadata": {},
   "source": [
    "## Code completed by k.saharsh"
   ]
  },
  {
   "cell_type": "code",
   "execution_count": null,
   "id": "5361f204",
   "metadata": {},
   "outputs": [],
   "source": []
  }
 ],
 "metadata": {
  "kernelspec": {
   "display_name": "Python 3 (ipykernel)",
   "language": "python",
   "name": "python3"
  },
  "language_info": {
   "codemirror_mode": {
    "name": "ipython",
    "version": 3
   },
   "file_extension": ".py",
   "mimetype": "text/x-python",
   "name": "python",
   "nbconvert_exporter": "python",
   "pygments_lexer": "ipython3",
   "version": "3.9.13"
  }
 },
 "nbformat": 4,
 "nbformat_minor": 5
}
