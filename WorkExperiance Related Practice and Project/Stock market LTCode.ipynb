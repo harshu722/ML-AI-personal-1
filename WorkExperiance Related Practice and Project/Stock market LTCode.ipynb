{
 "cells": [
  {
   "cell_type": "code",
   "execution_count": 1,
   "id": "c52a71ee",
   "metadata": {},
   "outputs": [
    {
     "name": "stdout",
     "output_type": "stream",
     "text": [
      "Maximum Profit: 6\n"
     ]
    }
   ],
   "source": [
    "class Solution:\n",
    "    def solveSO(self, prices):\n",
    "        n = len(prices)\n",
    "        curr = [[0] * 3 for _ in range(2)]\n",
    "        next = [[0] * 3 for _ in range(2)]\n",
    "\n",
    "        for index in range(n - 1, -1, -1):\n",
    "            for buy in range(2):\n",
    "                for limit in range(1, 3):\n",
    "                    if buy:\n",
    "                        Buy = -prices[index] + next[0][limit]\n",
    "                        skip = 0 + next[1][limit]\n",
    "                        profit = max(Buy, skip)\n",
    "                    else:\n",
    "                        sell = prices[index] + next[1][limit - 1]\n",
    "                        skip = 0 + next[0][limit]\n",
    "                        profit = max(sell, skip)\n",
    "\n",
    "                    curr[buy][limit] = profit\n",
    "            next = [row[:] for row in curr]\n",
    "\n",
    "        return next[1][2]\n",
    "\n",
    "    def maxProfit(self, prices):\n",
    "        return self.solveSO(prices)\n",
    "\n",
    "\n",
    "# Example usage\n",
    "if __name__ == \"__main__\":\n",
    "    sol = Solution()\n",
    "    prices = [3, 3, 5, 0, 0, 3, 1, 4]\n",
    "    print(\"Maximum Profit:\", sol.maxProfit(prices))\n"
   ]
  },
  {
   "cell_type": "code",
   "execution_count": null,
   "id": "82612cdf",
   "metadata": {},
   "outputs": [],
   "source": []
  }
 ],
 "metadata": {
  "kernelspec": {
   "display_name": "Python 3 (ipykernel)",
   "language": "python",
   "name": "python3"
  },
  "language_info": {
   "codemirror_mode": {
    "name": "ipython",
    "version": 3
   },
   "file_extension": ".py",
   "mimetype": "text/x-python",
   "name": "python",
   "nbconvert_exporter": "python",
   "pygments_lexer": "ipython3",
   "version": "3.9.13"
  }
 },
 "nbformat": 4,
 "nbformat_minor": 5
}
