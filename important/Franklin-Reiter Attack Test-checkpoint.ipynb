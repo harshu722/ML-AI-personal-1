{
 "cells": [
  {
   "cell_type": "code",
   "execution_count": 5,
   "id": "cf6dfda7",
   "metadata": {},
   "outputs": [
    {
     "name": "stdout",
     "output_type": "stream",
     "text": [
      "Obtained message 1: My name is Kolluru Saharsh\n",
      "Obtained message 2: Ve-S\t³8ù¿iÖ}Ôä\u000b",
      ">}b6à\n",
      "Original message 1: My name is Kolluru Saharsh\n",
      "Original message 2: Ve-S\t³8ù¿iÖ}Ôä\u000b",
      ">}b6à\n",
      "Obtained messages same as original messages: True\n"
     ]
    }
   ],
   "source": [
    "from sympy import poly, symbols, gcd\n",
    "from sympy.abc import x\n",
    "import random\n",
    "import math\n",
    "import sympy\n",
    "\n",
    "# Define the function to use the Franklin-Reiter related message attack\n",
    "def FranklinReiter(c1, c2, offset, e, n):\n",
    "    # Define the polynomial f1 and f2\n",
    "    f1 = poly(x**e - c1)\n",
    "    f2 = poly((x + offset)**e - c2)\n",
    "    # Calculate gcd of f1 and f2 modulo n\n",
    "    gcd_poly = gcd(f1, f2, modulus=n)\n",
    "    # The common root will be the negative coefficient of the last term of the gcd\n",
    "    m = -int(gcd_poly.all_coeffs()[-1]) % n\n",
    "    return m\n",
    "\n",
    "# Convert a string to an integer\n",
    "def string_to_int(s):\n",
    "    return int.from_bytes(s.encode(), 'big')\n",
    "\n",
    "# Convert an integer to a string\n",
    "def int_to_string(i):\n",
    "    i = int(i)  # Ensure i is a Python int\n",
    "    length = (i.bit_length() + 7) // 8\n",
    "    return i.to_bytes(length, 'big').decode('latin-1')\n",
    "\n",
    "# Generate two large primes for p and q\n",
    "nprimebits = 512\n",
    "p = sympy.nextprime(random.getrandbits(nprimebits))\n",
    "q = sympy.nextprime(random.getrandbits(nprimebits))\n",
    "n = p * q  # The modulus\n",
    "\n",
    "# The messages\n",
    "message_1 = \"My name is Kolluru Saharsh\"\n",
    "m1 = string_to_int(message_1)\n",
    "# Random offset used for creating the related message\n",
    "known_offset = random.getrandbits(m1.bit_length())\n",
    "# m2 is related to m1 by the known offset\n",
    "m2 = m1 + known_offset\n",
    "\n",
    "# Public exponent\n",
    "e = 3  # Typically a low exponent like 3 is used for efficiency\n",
    "\n",
    "# Encryption\n",
    "c1 = pow(m1, e, n)\n",
    "c2 = pow(m2, e, n)\n",
    "\n",
    "# Attack\n",
    "obtained_m1 = FranklinReiter(c1, c2, known_offset, e, n)\n",
    "# The second message can be obtained by adding the known offset to the first message\n",
    "obtained_m2 = obtained_m1 + known_offset\n",
    "\n",
    "# Output the obtained messages and check if they match the original\n",
    "obtained_message_1 = int_to_string(obtained_m1)\n",
    "obtained_message_2 = int_to_string(obtained_m2)\n",
    "\n",
    "# Print results\n",
    "print(f\"Obtained message 1: {obtained_message_1}\")\n",
    "print(f\"Obtained message 2: {obtained_message_2}\")\n",
    "\n",
    "# Check if the obtained messages match the original messages\n",
    "are_messages_same = (obtained_message_1 == message_1) and (obtained_message_2 == int_to_string(m2))\n",
    "\n",
    "print(f\"Original message 1: {message_1}\")\n",
    "print(f\"Original message 2: {int_to_string(m2)}\")\n",
    "print(f\"Obtained messages same as original messages: {are_messages_same}\")\n"
   ]
  },
  {
   "cell_type": "code",
   "execution_count": null,
   "id": "68826962",
   "metadata": {},
   "outputs": [],
   "source": []
  }
 ],
 "metadata": {
  "kernelspec": {
   "display_name": "Python 3 (ipykernel)",
   "language": "python",
   "name": "python3"
  },
  "language_info": {
   "codemirror_mode": {
    "name": "ipython",
    "version": 3
   },
   "file_extension": ".py",
   "mimetype": "text/x-python",
   "name": "python",
   "nbconvert_exporter": "python",
   "pygments_lexer": "ipython3",
   "version": "3.9.13"
  }
 },
 "nbformat": 4,
 "nbformat_minor": 5
}
